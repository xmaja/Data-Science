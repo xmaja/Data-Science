{
 "cells": [
  {
   "cell_type": "markdown",
   "id": "dc0eb944-b4f2-4ca6-9f89-901288d96ace",
   "metadata": {},
   "source": [
    "import yfinance as yf\n",
    "\n",
    "# Create a Ticker object for Tesla (TSLA)\n",
    "tesla = yf.Ticker(\"TSLA\")\n",
    "\n",
    "# Extract historical stock data for Tesla\n",
    "tesla_data = tesla.history(period=\"max\")\n",
    "\n",
    "# Reset the index of tesla_data\n",
    "tesla_data.reset_index(inplace=True)\n",
    "\n",
    "# Display the first five rows\n",
    "print(tesla_data.head())\n"
   ]
  },
  {
   "cell_type": "code",
   "execution_count": null,
   "id": "18b47ce0-0e7a-4a41-a506-2ec85b543872",
   "metadata": {},
   "outputs": [],
   "source": []
  },
  {
   "cell_type": "markdown",
   "id": "58d7c681-6827-434a-901b-9520157b65a2",
   "metadata": {},
   "source": [
    "import requests\n",
    "from bs4 import BeautifulSoup\n",
    "\n",
    "# Example URL for Tesla revenue data\n",
    "url = 'https://example.com/tesla-revenue'\n",
    "\n",
    "# Make a GET request to the URL\n",
    "response = requests.get(url)\n",
    "\n",
    "# Parse the HTML content\n",
    "soup = BeautifulSoup(response.text, 'html.parser')\n",
    "\n",
    "# Extract revenue data (replace with actual scraping logic)\n",
    "tesla_revenue = soup.find('div', class_='revenue').text.strip()\n",
    "\n",
    "print(\"Tesla Revenue:\", tesla_revenue)\n"
   ]
  },
  {
   "cell_type": "code",
   "execution_count": null,
   "id": "bd7c91f4-e43d-47ab-84f8-d3b0195ebbba",
   "metadata": {},
   "outputs": [],
   "source": []
  },
  {
   "cell_type": "markdown",
   "id": "4f6b0ba0-4c5c-4b9c-8bd7-1761e803bcad",
   "metadata": {},
   "source": [
    "# Assuming yfinance is already imported\n",
    "\n",
    "# Create a Ticker object for GameStop (GME)\n",
    "gme = yf.Ticker(\"GME\")\n",
    "\n",
    "# Extract historical stock data for GameStop\n",
    "gme_data = gme.history(period=\"max\")\n",
    "\n",
    "# Reset the index of gme_data\n",
    "gme_data.reset_index(inplace=True)\n",
    "\n",
    "# Display the first five rows\n",
    "print(gme_data.head())\n"
   ]
  },
  {
   "cell_type": "code",
   "execution_count": null,
   "id": "bd1ab411-d84c-4ebf-92aa-c35dba6ae94c",
   "metadata": {},
   "outputs": [],
   "source": []
  },
  {
   "cell_type": "markdown",
   "id": "7981eb75-0412-49d7-856d-1ae4e0c2caa0",
   "metadata": {},
   "source": [
    "import requests\n",
    "from bs4 import BeautifulSoup\n",
    "\n",
    "# Example URL for GameStop revenue data\n",
    "url = 'https://example.com/gamestop-revenue'\n",
    "\n",
    "# Make a GET request to the URL\n",
    "response = requests.get(url)\n",
    "\n",
    "# Parse the HTML content\n",
    "soup = BeautifulSoup(response.text, 'html.parser')\n",
    "\n",
    "# Extract revenue data (replace with actual scraping logic)\n",
    "gme_revenue = soup.find('div', class_='revenue').text.strip()\n",
    "\n",
    "print(\"GameStop Revenue:\", gme_revenue)\n"
   ]
  },
  {
   "cell_type": "code",
   "execution_count": null,
   "id": "bb03fca5-2a02-4b70-b51d-8e30bffbf76b",
   "metadata": {},
   "outputs": [],
   "source": [
    "\n"
   ]
  },
  {
   "cell_type": "markdown",
   "id": "ed2b2c85-2163-4230-beb9-b0c7b387c94e",
   "metadata": {},
   "source": [
    "import matplotlib.pyplot as plt\n",
    "import seaborn as sns\n",
    "\n",
    "# Assuming tesla_data and tesla_revenue are already defined and populated\n",
    "\n",
    "# Plotting stock data (e.g., Closing price over time)\n",
    "plt.figure(figsize=(12, 6))\n",
    "plt.plot(tesla_data['Date'], tesla_data['Close'], label='Tesla Stock Close Price')\n",
    "plt.title('Tesla Stock Close Price Over Time')\n",
    "plt.xlabel('Date')\n",
    "plt.ylabel('Stock Price (USD)')\n",
    "plt.legend()\n",
    "plt.grid(True)\n",
    "plt.xticks(rotation=45)\n",
    "plt.tight_layout()\n",
    "plt.show()\n",
    "\n",
    "# Plotting revenue data (e.g., Quarterly revenue)\n",
    "plt.figure(figsize=(10, 6))\n",
    "sns.barplot(x='Quarter', y='Revenue', data=tesla_revenue, palette='viridis')\n",
    "plt.title('Tesla Quarterly Revenue')\n",
    "plt.xlabel('Quarter')\n",
    "plt.ylabel('Revenue (Millions USD)')\n",
    "plt.xticks(rotation=45)\n",
    "plt.tight_layout()\n",
    "plt.show()\n"
   ]
  },
  {
   "cell_type": "code",
   "execution_count": null,
   "id": "3f457ebf-507f-4a21-b4e8-f78589ec1852",
   "metadata": {},
   "outputs": [],
   "source": []
  },
  {
   "cell_type": "markdown",
   "id": "d8c73cb6-4ce4-4825-8a07-205f02d8e8fd",
   "metadata": {},
   "source": [
    "# Assuming gme_data and gme_revenue are already defined and populated\n",
    "\n",
    "# Plotting stock data for GameStop\n",
    "plt.figure(figsize=(12, 6))\n",
    "plt.plot(gme_data['Date'], gme_data['Close'], label='GameStop Stock Close Price', color='red')\n",
    "plt.title('GameStop Stock Close Price Over Time')\n",
    "plt.xlabel('Date')\n",
    "plt.ylabel('Stock Price (USD)')\n",
    "plt.legend()\n",
    "plt.grid(True)\n",
    "plt.xticks(rotation=45)\n",
    "plt.tight_layout()\n",
    "plt.show()\n",
    "\n",
    "# Plotting revenue data for GameStop\n",
    "plt.figure(figsize=(10, 6))\n",
    "sns.barplot(x='Quarter', y='Revenue', data=gme_revenue, palette='rocket')\n",
    "plt.title('GameStop Quarterly Revenue')\n",
    "plt.xlabel('Quarter')\n",
    "plt.ylabel('Revenue (Millions USD)')\n",
    "plt.xticks(rotation=45)\n",
    "plt.tight_layout()\n",
    "plt.show()\n"
   ]
  },
  {
   "cell_type": "code",
   "execution_count": null,
   "id": "2fe43bef-0762-4b2c-8113-d7cd318654f1",
   "metadata": {},
   "outputs": [],
   "source": []
  }
 ],
 "metadata": {
  "kernelspec": {
   "display_name": "Python 3 (ipykernel)",
   "language": "python",
   "name": "python3"
  },
  "language_info": {
   "codemirror_mode": {
    "name": "ipython",
    "version": 3
   },
   "file_extension": ".py",
   "mimetype": "text/x-python",
   "name": "python",
   "nbconvert_exporter": "python",
   "pygments_lexer": "ipython3",
   "version": "3.12.0"
  }
 },
 "nbformat": 4,
 "nbformat_minor": 5
}
